{
  "nbformat": 4,
  "nbformat_minor": 0,
  "metadata": {
    "kernelspec": {
      "display_name": "Python 3",
      "language": "python",
      "name": "python3"
    },
    "language_info": {
      "codemirror_mode": {
        "name": "ipython",
        "version": 3
      },
      "file_extension": ".py",
      "mimetype": "text/x-python",
      "name": "python",
      "nbconvert_exporter": "python",
      "pygments_lexer": "ipython3",
      "version": "3.8.8"
    },
    "nbclean": true,
    "colab": {
      "provenance": [],
      "include_colab_link": true
    }
  },
  "cells": [
    {
      "cell_type": "markdown",
      "metadata": {
        "id": "view-in-github",
        "colab_type": "text"
      },
      "source": [
        "<a href=\"https://colab.research.google.com/github/sfenty30/ostemb-demo-repo/blob/backend/1_PY_Intro.ipynb\" target=\"_parent\"><img src=\"https://colab.research.google.com/assets/colab-badge.svg\" alt=\"Open In Colab\"/></a>"
      ]
    },
    {
      "cell_type": "markdown",
      "metadata": {
        "id": "WNsph2KMu6dt"
      },
      "source": [
        "---\n",
        "# 01 - Introduction to Python Programming\n",
        "---"
      ]
    },
    {
      "cell_type": "code",
      "metadata": {
        "id": "g2x49iA5u6dx"
      },
      "source": [
        "%matplotlib inline\n",
        "import matplotlib\n",
        "import seaborn as sns\n",
        "matplotlib.rcParams['savefig.dpi'] = 144"
      ],
      "execution_count": null,
      "outputs": []
    },
    {
      "cell_type": "code",
      "source": [
        "print(\"Hello World\")"
      ],
      "metadata": {
        "colab": {
          "base_uri": "https://localhost:8080/"
        },
        "id": "p2xISLbptIOk",
        "outputId": "240c5847-8094-427d-e950-b0897e1935fe"
      },
      "execution_count": null,
      "outputs": [
        {
          "output_type": "stream",
          "name": "stdout",
          "text": [
            "Hello World\n"
          ]
        }
      ]
    },
    {
      "cell_type": "code",
      "source": [],
      "metadata": {
        "id": "pLrtIOuCtTx1"
      },
      "execution_count": null,
      "outputs": []
    },
    {
      "cell_type": "markdown",
      "metadata": {
        "id": "7uH14SQTu6dz"
      },
      "source": [
        "# Introduction to Python"
      ]
    },
    {
      "cell_type": "markdown",
      "metadata": {
        "id": "I0GHkTI6u6dz"
      },
      "source": [
        "Welcome!  We will be taking a deep dive into Data Science over the next few months.  This course will be divided into two parts, the first component will cover basic Python and programming while the second component will cover material in Data Science ranging from basic programming to data cleaning and aggregation. The second part will not be covered today. It will be a follow up program for later. The basic syllabus is as follows\n",
        "\n",
        "|Duration|Material|\n",
        "|---|---|\n",
        "|4 Weeks| Module 1: Introduction to Programming & Python|\n",
        "|8 Weeks| Module 2: Python & Data Science|\n",
        "|16 Weeks| Module 3: Python & ML|\n",
        "\n",
        "We will go through this series through a miniprojects which will test your mastery of the lecture subjects. Programming and more so programming for Data Science is not a spectator sport, so its important to practice, the miniprojects are a great way to do that.  There will be a series of miniprojects which will need to be completed by the end of the series.\n",
        "\n",
        "There is a session for discussions where we can help each other learn, share code snippets, and ask questions.  The instructor will be monitoring the discussion sessions and watching for questions, but it is also important that you interact with your peers.  Remember the best learning often happens when you need to explain something to someone else."
      ]
    },
    {
      "cell_type": "markdown",
      "metadata": {
        "id": "f5oY3wy1u6d1"
      },
      "source": [
        "# Learning Platform\n",
        "\n",
        "We will be using the Jupyter notebook interface for all of our work.  The Jupyter notebook is a great tool for Programming in Python, Data Science, especially for exploratory Data Science.  Lets go over a few things about the notebook.\n",
        "\n",
        "The notebook is divided into cells, some of which are markdown."
      ]
    },
    {
      "cell_type": "code",
      "metadata": {
        "id": "2N1Xbmazu6d3",
        "outputId": "d18cdc46-dfa3-4da8-d9be-18e43904119a",
        "colab": {
          "base_uri": "https://localhost:8080/"
        }
      },
      "source": [
        "print('some of which are code')"
      ],
      "execution_count": null,
      "outputs": [
        {
          "output_type": "stream",
          "text": [
            "some of which are code\n"
          ],
          "name": "stdout"
        }
      ]
    },
    {
      "cell_type": "code",
      "source": [
        "print(\"welcome to python world\")"
      ],
      "metadata": {
        "colab": {
          "base_uri": "https://localhost:8080/"
        },
        "id": "SO3xKfZ6an6U",
        "outputId": "c933f8fb-3def-4358-a7e2-27a934005f4d"
      },
      "execution_count": 1,
      "outputs": [
        {
          "output_type": "stream",
          "name": "stdout",
          "text": [
            "welcome to python world\n"
          ]
        }
      ]
    },
    {
      "cell_type": "code",
      "source": [
        "print(\"shit just got real\")"
      ],
      "metadata": {
        "colab": {
          "base_uri": "https://localhost:8080/"
        },
        "id": "Uqf8y6Bmbp3x",
        "outputId": "efdc1a61-06de-43ca-e36b-9c422e49df9f"
      },
      "execution_count": 2,
      "outputs": [
        {
          "output_type": "stream",
          "name": "stdout",
          "text": [
            "shit just got real\n"
          ]
        }
      ]
    },
    {
      "cell_type": "markdown",
      "metadata": {
        "id": "U7JvdTZRu6d4"
      },
      "source": [
        "The code you are writing in your web browser gets sent to a Python \"kernel\" living on a cloud (Online) or local (running on your computer) server which will execute your code and return the result back to the notebook.  To run a cell we can either click the run button at the top of the screen, or use `shift+enter`.  \n",
        "\n",
        "If I define a variable in one cell"
      ]
    },
    {
      "cell_type": "code",
      "metadata": {
        "id": "eSrzzVp8u6d4"
      },
      "source": [
        "a = 5"
      ],
      "execution_count": 3,
      "outputs": []
    },
    {
      "cell_type": "code",
      "source": [],
      "metadata": {
        "id": "DoVOVL-gc6za"
      },
      "execution_count": null,
      "outputs": []
    },
    {
      "cell_type": "markdown",
      "metadata": {
        "id": "Ri8auv7_u6d5"
      },
      "source": [
        "The value is still accessible in another cell:"
      ]
    },
    {
      "cell_type": "code",
      "metadata": {
        "id": "NfpfT0idu6d6",
        "outputId": "40d92665-ae68-4425-d9d1-7e7a5dd48a0f",
        "colab": {
          "base_uri": "https://localhost:8080/"
        }
      },
      "source": [
        "print(a)"
      ],
      "execution_count": null,
      "outputs": [
        {
          "output_type": "stream",
          "text": [
            "5\n"
          ],
          "name": "stdout"
        }
      ]
    },
    {
      "cell_type": "markdown",
      "metadata": {
        "id": "egBdzqNAu6d6"
      },
      "source": [
        "Jupyter notebooks do have some autosave functionality, but please remember to save your notebooks manually often to make sure you don't lose any work.  If you are familiar with a version control too like `git`, it is not a bad idea to version control the notebooks, although we do ask you don't push the material to a public repository."
      ]
    },
    {
      "cell_type": "markdown",
      "metadata": {
        "id": "8iN1OJfZu6d8"
      },
      "source": [
        "## Exercises\n",
        "\n",
        "These notebooks contain many small exercises which help practice the material being discussed.  Some of the exercises will be writing a bit of code, others will be written.  Some of the exercises will be covered in the lecture and some will be left as practice.  Exercises are a great topic to discuss on the groups and please feel free to help each other solve them.\n",
        "\n",
        "Now a few exercises for the introduction:\n",
        "\n",
        "1. Make a few cells in the Jupyter notebook and execute them\n",
        "2. Save your Jupyter notebook"
      ]
    },
    {
      "cell_type": "markdown",
      "metadata": {
        "id": "KHpVGMDnu6d8"
      },
      "source": [
        "Ex 1. Make a few cells in the Jupyter notebook and execute them"
      ]
    },
    {
      "cell_type": "markdown",
      "metadata": {
        "id": "djLwqf9Zu6d9"
      },
      "source": [
        "Ex 2. Save your Jupyter notebook"
      ]
    },
    {
      "cell_type": "markdown",
      "metadata": {
        "id": "UWP5VapUu6d9"
      },
      "source": [
        "# References and Sources\n",
        "- [The Data Incubator](https://www.thedataincubator.com/)"
      ]
    },
    {
      "cell_type": "markdown",
      "metadata": {
        "id": "32_Tu0HIu6d9"
      },
      "source": [
        "*Copyright &copy; 2019 The New Generation Technologies.  All rights reserved.*"
      ]
    },
    {
      "cell_type": "code",
      "metadata": {
        "id": "CzJBnbxSu6d9"
      },
      "source": [],
      "execution_count": null,
      "outputs": []
    }
  ]
}